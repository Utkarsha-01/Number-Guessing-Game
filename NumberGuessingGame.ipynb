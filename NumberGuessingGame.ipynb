{
 "cells": [
  {
   "cell_type": "code",
   "execution_count": 1,
   "id": "faae2fdd-e2d3-401b-a3ff-bbb4b0d4c602",
   "metadata": {},
   "outputs": [],
   "source": [
    "import random"
   ]
  },
  {
   "cell_type": "code",
   "execution_count": 2,
   "id": "051d81e4-578c-42c2-85e0-2d34e945e314",
   "metadata": {},
   "outputs": [],
   "source": [
    "lowest_num = 1\n",
    "highest_num = 100\n",
    "answer = random.randint(lowest_num, highest_num)\n",
    "guesses = 0\n",
    "is_running = True"
   ]
  },
  {
   "cell_type": "code",
   "execution_count": 3,
   "id": "f457c2f1-1229-44e9-a787-684c624d16a1",
   "metadata": {},
   "outputs": [
    {
     "name": "stdout",
     "output_type": "stream",
     "text": [
      "Python Number Guessing Game\n",
      "Select a number between 1 and 100\n"
     ]
    }
   ],
   "source": [
    "print(\"Python Number Guessing Game\")\n",
    "print(f\"Select a number between {lowest_num} and {highest_num}\")"
   ]
  },
  {
   "cell_type": "code",
   "execution_count": 4,
   "id": "b54bf0f8-4f6d-4396-82d6-0cddb5b78e3c",
   "metadata": {},
   "outputs": [
    {
     "name": "stdin",
     "output_type": "stream",
     "text": [
      "Enter your guess:  67\n"
     ]
    },
    {
     "name": "stdout",
     "output_type": "stream",
     "text": [
      "Too high! Try again!\n"
     ]
    },
    {
     "name": "stdin",
     "output_type": "stream",
     "text": [
      "Enter your guess:  54\n"
     ]
    },
    {
     "name": "stdout",
     "output_type": "stream",
     "text": [
      "Too high! Try again!\n"
     ]
    },
    {
     "name": "stdin",
     "output_type": "stream",
     "text": [
      "Enter your guess:  23\n"
     ]
    },
    {
     "name": "stdout",
     "output_type": "stream",
     "text": [
      "Too low! Try again!\n"
     ]
    },
    {
     "name": "stdin",
     "output_type": "stream",
     "text": [
      "Enter your guess:  30\n"
     ]
    },
    {
     "name": "stdout",
     "output_type": "stream",
     "text": [
      "Too low! Try again!\n"
     ]
    },
    {
     "name": "stdin",
     "output_type": "stream",
     "text": [
      "Enter your guess:  50\n"
     ]
    },
    {
     "name": "stdout",
     "output_type": "stream",
     "text": [
      "Too high! Try again!\n"
     ]
    },
    {
     "name": "stdin",
     "output_type": "stream",
     "text": [
      "Enter your guess:  45\n"
     ]
    },
    {
     "name": "stdout",
     "output_type": "stream",
     "text": [
      "Too low! Try again!\n"
     ]
    },
    {
     "name": "stdin",
     "output_type": "stream",
     "text": [
      "Enter your guess:  46\n"
     ]
    },
    {
     "name": "stdout",
     "output_type": "stream",
     "text": [
      "CORRECT.! The answer was 46\n",
      "Number of guesses: 7\n"
     ]
    }
   ],
   "source": [
    "while is_running:\n",
    "    guess = input(\"Enter your guess: \")\n",
    "\n",
    "    if guess.isdigit():\n",
    "        guess = int(guess)\n",
    "        guesses += 1\n",
    "\n",
    "        if guess < lowest_num or guess > highest_num:\n",
    "            print(\"That number is out of range\")\n",
    "            print(f\"Please select a number between {lowest_num} and {highest_num}\")\n",
    "        elif guess < answer:\n",
    "            print(\"Too low! Try again!\")\n",
    "        elif guess > answer:\n",
    "            print(\"Too high! Try again!\")\n",
    "        else:\n",
    "            print(f\"CORRECT.! The answer was {answer}\")\n",
    "            print(f\"Number of guesses: {guesses}\")\n",
    "            is_running = False\n",
    "    else:\n",
    "        print(\"Invalid guess\")\n",
    "        print(f\"Please select a number between {lowest_num} and {highest_num}\")"
   ]
  },
  {
   "cell_type": "code",
   "execution_count": null,
   "id": "61452038-625a-4227-afb1-4c085dd43e9c",
   "metadata": {},
   "outputs": [],
   "source": []
  }
 ],
 "metadata": {
  "kernelspec": {
   "display_name": "Python 3 (ipykernel)",
   "language": "python",
   "name": "python3"
  },
  "language_info": {
   "codemirror_mode": {
    "name": "ipython",
    "version": 3
   },
   "file_extension": ".py",
   "mimetype": "text/x-python",
   "name": "python",
   "nbconvert_exporter": "python",
   "pygments_lexer": "ipython3",
   "version": "3.12.5"
  }
 },
 "nbformat": 4,
 "nbformat_minor": 5
}
